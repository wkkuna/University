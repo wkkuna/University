{
 "cells": [
  {
   "cell_type": "markdown",
   "metadata": {
    "id": "Bs_CLKszl4s7"
   },
   "source": [
    "# Mental health in Tech\n",
    "\n",
    "Should I, as a tech industry employee, seek help?\\\n",
    "Is the company I'm interested in a good fit for my mental?\n",
    "\n",
    "Research based on Mental Health in Tech survey from: https://www.kaggle.com/datasets/osmi/mental-health-in-tech-survey."
   ]
  },
  {
   "cell_type": "markdown",
   "metadata": {
    "id": "eAlMDQBNVC5H"
   },
   "source": [
    "Dependencies and imports.\n",
    "\n"
   ]
  },
  {
   "cell_type": "code",
   "execution_count": 124,
   "metadata": {
    "executionInfo": {
     "elapsed": 4084,
     "status": "ok",
     "timestamp": 1676618241933,
     "user": {
      "displayName": "Wiktoria Kuna",
      "userId": "08275483741256386976"
     },
     "user_tz": -60
    },
    "id": "R7GLYwXVUzrm"
   },
   "outputs": [],
   "source": [
    "!python3 -m pip install -q gdown httpimport"
   ]
  },
  {
   "cell_type": "code",
   "execution_count": 125,
   "metadata": {
    "colab": {
     "base_uri": "https://localhost:8080/"
    },
    "executionInfo": {
     "elapsed": 1221,
     "status": "ok",
     "timestamp": 1676618243149,
     "user": {
      "displayName": "Wiktoria Kuna",
      "userId": "08275483741256386976"
     },
     "user_tz": -60
    },
    "id": "aw4oC5t_Map8",
    "outputId": "6b11c86d-4903-4501-d4c0-2e487de81a46"
   },
   "outputs": [
    {
     "name": "stdout",
     "output_type": "stream",
     "text": [
      "Downloading...\n",
      "From: https://drive.google.com/uc?id=1BCSUNN18opQMbtgPIPcqwVmxHmo0VSnL\n",
      "To: /content/survey.csv\n",
      "\r",
      "  0% 0.00/304k [00:00<?, ?B/s]\r",
      "100% 304k/304k [00:00<00:00, 81.5MB/s]\n"
     ]
    }
   ],
   "source": [
    "!gdown 1BCSUNN18opQMbtgPIPcqwVmxHmo0VSnL"
   ]
  },
  {
   "cell_type": "code",
   "execution_count": 126,
   "metadata": {
    "executionInfo": {
     "elapsed": 10,
     "status": "ok",
     "timestamp": 1676618243149,
     "user": {
      "displayName": "Wiktoria Kuna",
      "userId": "08275483741256386976"
     },
     "user_tz": -60
    },
    "id": "BoOYUxzuVqZP"
   },
   "outputs": [],
   "source": [
    "import os\n",
    "import numpy as np\n",
    "import pandas as pd\n",
    "import torch\n",
    "import torch.nn as nn\n",
    "import scipy.stats as sstats\n",
    "import seaborn as sns\n",
    "from sklearn.ensemble import RandomForestClassifier\n",
    "from sklearn.metrics import accuracy_score\n",
    "import matplotlib.pyplot as plt\n",
    "import itertools\n",
    "from xgboost import XGBClassifier"
   ]
  },
  {
   "cell_type": "markdown",
   "metadata": {
    "id": "hcg9_BtMaW10"
   },
   "source": [
    "Initialize dictionaries that are going to gather the best results from each model."
   ]
  },
  {
   "cell_type": "code",
   "execution_count": 127,
   "metadata": {
    "executionInfo": {
     "elapsed": 10,
     "status": "ok",
     "timestamp": 1676618243150,
     "user": {
      "displayName": "Wiktoria Kuna",
      "userId": "08275483741256386976"
     },
     "user_tz": -60
    },
    "id": "mvj3UfjwagYx"
   },
   "outputs": [],
   "source": [
    "results0 = {}\n",
    "results1 = {}"
   ]
  },
  {
   "cell_type": "markdown",
   "metadata": {
    "id": "6UTIheI4aQ5g"
   },
   "source": [
    "## Preprocessing data"
   ]
  },
  {
   "cell_type": "code",
   "execution_count": 194,
   "metadata": {
    "colab": {
     "base_uri": "https://localhost:8080/"
    },
    "executionInfo": {
     "elapsed": 247,
     "status": "ok",
     "timestamp": 1676620132522,
     "user": {
      "displayName": "Wiktoria Kuna",
      "userId": "08275483741256386976"
     },
     "user_tz": -60
    },
    "id": "21thfKKRaPKk",
    "outputId": "af822176-d03f-4f79-ccb2-6d4d7b44c1a8"
   },
   "outputs": [
    {
     "data": {
      "text/plain": [
       "1259"
      ]
     },
     "execution_count": 194,
     "metadata": {},
     "output_type": "execute_result"
    }
   ],
   "source": [
    "df = pd.read_csv('/content/survey.csv')\n",
    "total_records = df.shape[0]\n",
    "total_records"
   ]
  },
  {
   "cell_type": "markdown",
   "metadata": {
    "id": "PFOeBullbfDY"
   },
   "source": [
    "### Dataset structure"
   ]
  },
  {
   "cell_type": "code",
   "execution_count": 195,
   "metadata": {
    "colab": {
     "base_uri": "https://localhost:8080/"
    },
    "executionInfo": {
     "elapsed": 255,
     "status": "ok",
     "timestamp": 1676620133919,
     "user": {
      "displayName": "Wiktoria Kuna",
      "userId": "08275483741256386976"
     },
     "user_tz": -60
    },
    "id": "aIyH8uvebedn",
    "outputId": "a324d2ec-823f-4fed-f5cc-dfa4efe7d158"
   },
   "outputs": [
    {
     "name": "stdout",
     "output_type": "stream",
     "text": [
      "<class 'pandas.core.frame.DataFrame'>\n",
      "RangeIndex: 1259 entries, 0 to 1258\n",
      "Data columns (total 27 columns):\n",
      " #   Column                     Non-Null Count  Dtype \n",
      "---  ------                     --------------  ----- \n",
      " 0   Timestamp                  1259 non-null   object\n",
      " 1   Age                        1259 non-null   int64 \n",
      " 2   Gender                     1259 non-null   object\n",
      " 3   Country                    1259 non-null   object\n",
      " 4   state                      744 non-null    object\n",
      " 5   self_employed              1241 non-null   object\n",
      " 6   family_history             1259 non-null   object\n",
      " 7   treatment                  1259 non-null   object\n",
      " 8   work_interfere             995 non-null    object\n",
      " 9   no_employees               1259 non-null   object\n",
      " 10  remote_work                1259 non-null   object\n",
      " 11  tech_company               1259 non-null   object\n",
      " 12  benefits                   1259 non-null   object\n",
      " 13  care_options               1259 non-null   object\n",
      " 14  wellness_program           1259 non-null   object\n",
      " 15  seek_help                  1259 non-null   object\n",
      " 16  anonymity                  1259 non-null   object\n",
      " 17  leave                      1259 non-null   object\n",
      " 18  mental_health_consequence  1259 non-null   object\n",
      " 19  phys_health_consequence    1259 non-null   object\n",
      " 20  coworkers                  1259 non-null   object\n",
      " 21  supervisor                 1259 non-null   object\n",
      " 22  mental_health_interview    1259 non-null   object\n",
      " 23  phys_health_interview      1259 non-null   object\n",
      " 24  mental_vs_physical         1259 non-null   object\n",
      " 25  obs_consequence            1259 non-null   object\n",
      " 26  comments                   164 non-null    object\n",
      "dtypes: int64(1), object(26)\n",
      "memory usage: 265.7+ KB\n"
     ]
    }
   ],
   "source": [
    "df.info()"
   ]
  },
  {
   "cell_type": "markdown",
   "metadata": {
    "id": "HM8YuITQbnMx"
   },
   "source": [
    "### Missing data summary"
   ]
  },
  {
   "cell_type": "code",
   "execution_count": 196,
   "metadata": {
    "colab": {
     "base_uri": "https://localhost:8080/",
     "height": 896
    },
    "executionInfo": {
     "elapsed": 249,
     "status": "ok",
     "timestamp": 1676620135802,
     "user": {
      "displayName": "Wiktoria Kuna",
      "userId": "08275483741256386976"
     },
     "user_tz": -60
    },
    "id": "NsVUQpiIbvXH",
    "outputId": "5ac6d89e-a18d-45a6-f7b6-03c05f4540cb"
   },
   "outputs": [
    {
     "data": {
      "text/html": [
       "\n",
       "  <div id=\"df-689cbb62-fb79-4ae3-9759-4a38f98c6c85\">\n",
       "    <div class=\"colab-df-container\">\n",
       "      <div>\n",
       "<style scoped>\n",
       "    .dataframe tbody tr th:only-of-type {\n",
       "        vertical-align: middle;\n",
       "    }\n",
       "\n",
       "    .dataframe tbody tr th {\n",
       "        vertical-align: top;\n",
       "    }\n",
       "\n",
       "    .dataframe thead th {\n",
       "        text-align: right;\n",
       "    }\n",
       "</style>\n",
       "<table border=\"1\" class=\"dataframe\">\n",
       "  <thead>\n",
       "    <tr style=\"text-align: right;\">\n",
       "      <th></th>\n",
       "      <th>Missing</th>\n",
       "      <th>Percent of total records</th>\n",
       "    </tr>\n",
       "  </thead>\n",
       "  <tbody>\n",
       "    <tr>\n",
       "      <th>comments</th>\n",
       "      <td>1095</td>\n",
       "      <td>0.869738</td>\n",
       "    </tr>\n",
       "    <tr>\n",
       "      <th>state</th>\n",
       "      <td>515</td>\n",
       "      <td>0.409055</td>\n",
       "    </tr>\n",
       "    <tr>\n",
       "      <th>work_interfere</th>\n",
       "      <td>264</td>\n",
       "      <td>0.209690</td>\n",
       "    </tr>\n",
       "    <tr>\n",
       "      <th>self_employed</th>\n",
       "      <td>18</td>\n",
       "      <td>0.014297</td>\n",
       "    </tr>\n",
       "    <tr>\n",
       "      <th>seek_help</th>\n",
       "      <td>0</td>\n",
       "      <td>0.000000</td>\n",
       "    </tr>\n",
       "    <tr>\n",
       "      <th>obs_consequence</th>\n",
       "      <td>0</td>\n",
       "      <td>0.000000</td>\n",
       "    </tr>\n",
       "    <tr>\n",
       "      <th>mental_vs_physical</th>\n",
       "      <td>0</td>\n",
       "      <td>0.000000</td>\n",
       "    </tr>\n",
       "    <tr>\n",
       "      <th>phys_health_interview</th>\n",
       "      <td>0</td>\n",
       "      <td>0.000000</td>\n",
       "    </tr>\n",
       "    <tr>\n",
       "      <th>mental_health_interview</th>\n",
       "      <td>0</td>\n",
       "      <td>0.000000</td>\n",
       "    </tr>\n",
       "    <tr>\n",
       "      <th>supervisor</th>\n",
       "      <td>0</td>\n",
       "      <td>0.000000</td>\n",
       "    </tr>\n",
       "    <tr>\n",
       "      <th>coworkers</th>\n",
       "      <td>0</td>\n",
       "      <td>0.000000</td>\n",
       "    </tr>\n",
       "    <tr>\n",
       "      <th>phys_health_consequence</th>\n",
       "      <td>0</td>\n",
       "      <td>0.000000</td>\n",
       "    </tr>\n",
       "    <tr>\n",
       "      <th>mental_health_consequence</th>\n",
       "      <td>0</td>\n",
       "      <td>0.000000</td>\n",
       "    </tr>\n",
       "    <tr>\n",
       "      <th>leave</th>\n",
       "      <td>0</td>\n",
       "      <td>0.000000</td>\n",
       "    </tr>\n",
       "    <tr>\n",
       "      <th>anonymity</th>\n",
       "      <td>0</td>\n",
       "      <td>0.000000</td>\n",
       "    </tr>\n",
       "    <tr>\n",
       "      <th>Timestamp</th>\n",
       "      <td>0</td>\n",
       "      <td>0.000000</td>\n",
       "    </tr>\n",
       "    <tr>\n",
       "      <th>wellness_program</th>\n",
       "      <td>0</td>\n",
       "      <td>0.000000</td>\n",
       "    </tr>\n",
       "    <tr>\n",
       "      <th>Age</th>\n",
       "      <td>0</td>\n",
       "      <td>0.000000</td>\n",
       "    </tr>\n",
       "    <tr>\n",
       "      <th>benefits</th>\n",
       "      <td>0</td>\n",
       "      <td>0.000000</td>\n",
       "    </tr>\n",
       "    <tr>\n",
       "      <th>tech_company</th>\n",
       "      <td>0</td>\n",
       "      <td>0.000000</td>\n",
       "    </tr>\n",
       "    <tr>\n",
       "      <th>remote_work</th>\n",
       "      <td>0</td>\n",
       "      <td>0.000000</td>\n",
       "    </tr>\n",
       "    <tr>\n",
       "      <th>no_employees</th>\n",
       "      <td>0</td>\n",
       "      <td>0.000000</td>\n",
       "    </tr>\n",
       "    <tr>\n",
       "      <th>treatment</th>\n",
       "      <td>0</td>\n",
       "      <td>0.000000</td>\n",
       "    </tr>\n",
       "    <tr>\n",
       "      <th>family_history</th>\n",
       "      <td>0</td>\n",
       "      <td>0.000000</td>\n",
       "    </tr>\n",
       "    <tr>\n",
       "      <th>Country</th>\n",
       "      <td>0</td>\n",
       "      <td>0.000000</td>\n",
       "    </tr>\n",
       "    <tr>\n",
       "      <th>Gender</th>\n",
       "      <td>0</td>\n",
       "      <td>0.000000</td>\n",
       "    </tr>\n",
       "    <tr>\n",
       "      <th>care_options</th>\n",
       "      <td>0</td>\n",
       "      <td>0.000000</td>\n",
       "    </tr>\n",
       "  </tbody>\n",
       "</table>\n",
       "</div>\n",
       "      <button class=\"colab-df-convert\" onclick=\"convertToInteractive('df-689cbb62-fb79-4ae3-9759-4a38f98c6c85')\"\n",
       "              title=\"Convert this dataframe to an interactive table.\"\n",
       "              style=\"display:none;\">\n",
       "        \n",
       "  <svg xmlns=\"http://www.w3.org/2000/svg\" height=\"24px\"viewBox=\"0 0 24 24\"\n",
       "       width=\"24px\">\n",
       "    <path d=\"M0 0h24v24H0V0z\" fill=\"none\"/>\n",
       "    <path d=\"M18.56 5.44l.94 2.06.94-2.06 2.06-.94-2.06-.94-.94-2.06-.94 2.06-2.06.94zm-11 1L8.5 8.5l.94-2.06 2.06-.94-2.06-.94L8.5 2.5l-.94 2.06-2.06.94zm10 10l.94 2.06.94-2.06 2.06-.94-2.06-.94-.94-2.06-.94 2.06-2.06.94z\"/><path d=\"M17.41 7.96l-1.37-1.37c-.4-.4-.92-.59-1.43-.59-.52 0-1.04.2-1.43.59L10.3 9.45l-7.72 7.72c-.78.78-.78 2.05 0 2.83L4 21.41c.39.39.9.59 1.41.59.51 0 1.02-.2 1.41-.59l7.78-7.78 2.81-2.81c.8-.78.8-2.07 0-2.86zM5.41 20L4 18.59l7.72-7.72 1.47 1.35L5.41 20z\"/>\n",
       "  </svg>\n",
       "      </button>\n",
       "      \n",
       "  <style>\n",
       "    .colab-df-container {\n",
       "      display:flex;\n",
       "      flex-wrap:wrap;\n",
       "      gap: 12px;\n",
       "    }\n",
       "\n",
       "    .colab-df-convert {\n",
       "      background-color: #E8F0FE;\n",
       "      border: none;\n",
       "      border-radius: 50%;\n",
       "      cursor: pointer;\n",
       "      display: none;\n",
       "      fill: #1967D2;\n",
       "      height: 32px;\n",
       "      padding: 0 0 0 0;\n",
       "      width: 32px;\n",
       "    }\n",
       "\n",
       "    .colab-df-convert:hover {\n",
       "      background-color: #E2EBFA;\n",
       "      box-shadow: 0px 1px 2px rgba(60, 64, 67, 0.3), 0px 1px 3px 1px rgba(60, 64, 67, 0.15);\n",
       "      fill: #174EA6;\n",
       "    }\n",
       "\n",
       "    [theme=dark] .colab-df-convert {\n",
       "      background-color: #3B4455;\n",
       "      fill: #D2E3FC;\n",
       "    }\n",
       "\n",
       "    [theme=dark] .colab-df-convert:hover {\n",
       "      background-color: #434B5C;\n",
       "      box-shadow: 0px 1px 3px 1px rgba(0, 0, 0, 0.15);\n",
       "      filter: drop-shadow(0px 1px 2px rgba(0, 0, 0, 0.3));\n",
       "      fill: #FFFFFF;\n",
       "    }\n",
       "  </style>\n",
       "\n",
       "      <script>\n",
       "        const buttonEl =\n",
       "          document.querySelector('#df-689cbb62-fb79-4ae3-9759-4a38f98c6c85 button.colab-df-convert');\n",
       "        buttonEl.style.display =\n",
       "          google.colab.kernel.accessAllowed ? 'block' : 'none';\n",
       "\n",
       "        async function convertToInteractive(key) {\n",
       "          const element = document.querySelector('#df-689cbb62-fb79-4ae3-9759-4a38f98c6c85');\n",
       "          const dataTable =\n",
       "            await google.colab.kernel.invokeFunction('convertToInteractive',\n",
       "                                                     [key], {});\n",
       "          if (!dataTable) return;\n",
       "\n",
       "          const docLinkHtml = 'Like what you see? Visit the ' +\n",
       "            '<a target=\"_blank\" href=https://colab.research.google.com/notebooks/data_table.ipynb>data table notebook</a>'\n",
       "            + ' to learn more about interactive tables.';\n",
       "          element.innerHTML = '';\n",
       "          dataTable['output_type'] = 'display_data';\n",
       "          await google.colab.output.renderOutput(dataTable, element);\n",
       "          const docLink = document.createElement('div');\n",
       "          docLink.innerHTML = docLinkHtml;\n",
       "          element.appendChild(docLink);\n",
       "        }\n",
       "      </script>\n",
       "    </div>\n",
       "  </div>\n",
       "  "
      ],
      "text/plain": [
       "                           Missing  Percent of total records\n",
       "comments                      1095                  0.869738\n",
       "state                          515                  0.409055\n",
       "work_interfere                 264                  0.209690\n",
       "self_employed                   18                  0.014297\n",
       "seek_help                        0                  0.000000\n",
       "obs_consequence                  0                  0.000000\n",
       "mental_vs_physical               0                  0.000000\n",
       "phys_health_interview            0                  0.000000\n",
       "mental_health_interview          0                  0.000000\n",
       "supervisor                       0                  0.000000\n",
       "coworkers                        0                  0.000000\n",
       "phys_health_consequence          0                  0.000000\n",
       "mental_health_consequence        0                  0.000000\n",
       "leave                            0                  0.000000\n",
       "anonymity                        0                  0.000000\n",
       "Timestamp                        0                  0.000000\n",
       "wellness_program                 0                  0.000000\n",
       "Age                              0                  0.000000\n",
       "benefits                         0                  0.000000\n",
       "tech_company                     0                  0.000000\n",
       "remote_work                      0                  0.000000\n",
       "no_employees                     0                  0.000000\n",
       "treatment                        0                  0.000000\n",
       "family_history                   0                  0.000000\n",
       "Country                          0                  0.000000\n",
       "Gender                           0                  0.000000\n",
       "care_options                     0                  0.000000"
      ]
     },
     "execution_count": 196,
     "metadata": {},
     "output_type": "execute_result"
    }
   ],
   "source": [
    "missing = df.isnull().sum()\n",
    "percent = missing / total_records\n",
    "pd.concat([missing.sort_values(ascending=False), percent.sort_values(\n",
    "          ascending=False)], axis=1, keys=['Missing', 'Percent of total records'])"
   ]
  },
  {
   "cell_type": "markdown",
   "metadata": {
    "id": "pPbEgJWEcAqs"
   },
   "source": [
    "As we can see, there's four columns that lack records. The highiest of them all being comments, which don't seem useful for us at all (given that there's less than 15% of non-null answers). Therefore, the wisest approach that comes to mind is to drop the comments and move on.\n",
    "\n",
    "Also, given than nearly half of the answers given in `state` column is empty, as well as, it doesn't apply to respondents outside of the US, we've decided to drop it."
   ]
  },
  {
   "cell_type": "code",
   "execution_count": 197,
   "metadata": {
    "executionInfo": {
     "elapsed": 3,
     "status": "ok",
     "timestamp": 1676620138212,
     "user": {
      "displayName": "Wiktoria Kuna",
      "userId": "08275483741256386976"
     },
     "user_tz": -60
    },
    "id": "LJtIbsYmeabX"
   },
   "outputs": [],
   "source": [
    "df.drop(columns=[\"comments\", \"state\"], inplace=True)"
   ]
  },
  {
   "cell_type": "markdown",
   "metadata": {
    "id": "aT0t12BYiZwU"
   },
   "source": [
    "### Work interfere"
   ]
  },
  {
   "cell_type": "code",
   "execution_count": 198,
   "metadata": {
    "colab": {
     "base_uri": "https://localhost:8080/"
    },
    "executionInfo": {
     "elapsed": 5,
     "status": "ok",
     "timestamp": 1676620139547,
     "user": {
      "displayName": "Wiktoria Kuna",
      "userId": "08275483741256386976"
     },
     "user_tz": -60
    },
    "id": "v5hn3LdUicz5",
    "outputId": "4a79ade7-cb95-4119-db39-7e768adfa41e"
   },
   "outputs": [
    {
     "data": {
      "text/plain": [
       "Sometimes    465\n",
       "NaN          264\n",
       "Never        213\n",
       "Rarely       173\n",
       "Often        144\n",
       "Name: work_interfere, dtype: int64"
      ]
     },
     "execution_count": 198,
     "metadata": {},
     "output_type": "execute_result"
    }
   ],
   "source": [
    "df['work_interfere'].value_counts(dropna=False)"
   ]
  },
  {
   "cell_type": "markdown",
   "metadata": {
    "id": "sxQpNUkhgOrB"
   },
   "source": [
    "Next null-containing column is `work_interfere`. The non-valid answer oscilate around 20%. It seems to be too much to drop all the rows with null values, but also too little to drop the whole column. Also it seems like it would be a helpful parameter to predict someone's mental health state.\n",
    "\n",
    "`work_interfere` contains answers to the question: \"If you have a mental health condition, do you feel that it interferes with your work?\". The answers in the original survey didn't provide an option for people who:\n",
    "\n",
    "*   don't have a mental health condition\n",
    "*   are uncertain / rather not tell\n",
    "\n",
    "We thought that the missing answers are most likely describing the above scenarios, therefore, we've added a non-null value to replace the missing records as presented it as `Don't know`.\n"
   ]
  },
  {
   "cell_type": "code",
   "execution_count": 199,
   "metadata": {
    "colab": {
     "base_uri": "https://localhost:8080/"
    },
    "executionInfo": {
     "elapsed": 238,
     "status": "ok",
     "timestamp": 1676620145885,
     "user": {
      "displayName": "Wiktoria Kuna",
      "userId": "08275483741256386976"
     },
     "user_tz": -60
    },
    "id": "typ-MPqeiToZ",
    "outputId": "9bf5e7eb-e60c-4bf8-939c-8410c40c529a"
   },
   "outputs": [
    {
     "data": {
      "text/plain": [
       "Sometimes     465\n",
       "Don't know    264\n",
       "Never         213\n",
       "Rarely        173\n",
       "Often         144\n",
       "Name: work_interfere, dtype: int64"
      ]
     },
     "execution_count": 199,
     "metadata": {},
     "output_type": "execute_result"
    }
   ],
   "source": [
    "df['work_interfere'].replace([None], 'Don\\'t know', inplace=True)\n",
    "df['work_interfere'].value_counts(dropna=False)"
   ]
  },
  {
   "cell_type": "markdown",
   "metadata": {
    "id": "LpiV25nHe3Fv"
   },
   "source": [
    "### Self employment\n"
   ]
  },
  {
   "cell_type": "code",
   "execution_count": 200,
   "metadata": {
    "colab": {
     "base_uri": "https://localhost:8080/"
    },
    "executionInfo": {
     "elapsed": 231,
     "status": "ok",
     "timestamp": 1676620147717,
     "user": {
      "displayName": "Wiktoria Kuna",
      "userId": "08275483741256386976"
     },
     "user_tz": -60
    },
    "id": "v7pdNm5MewSE",
    "outputId": "55ce2b6f-1a3e-4e68-fdfa-37b9690c2a88"
   },
   "outputs": [
    {
     "data": {
      "text/plain": [
       "No     1095\n",
       "Yes     146\n",
       "NaN      18\n",
       "Name: self_employed, dtype: int64"
      ]
     },
     "execution_count": 200,
     "metadata": {},
     "output_type": "execute_result"
    }
   ],
   "source": [
    "df['self_employed'].value_counts(dropna=False)"
   ]
  },
  {
   "cell_type": "markdown",
   "metadata": {
    "id": "KK55ly6vjtni"
   },
   "source": [
    "As the lack of answers to question associated with `work_inference` could be justified by the way the question was constructed, it seems that it's hard to 'not know' whether one's self-employed or not. Since the number of NaNs in this column is not that significant (and other values in different columns don't seem serious enough - i.e. 'A little about you' in Gender) we've decided to drop those records."
   ]
  },
  {
   "cell_type": "code",
   "execution_count": 201,
   "metadata": {
    "colab": {
     "base_uri": "https://localhost:8080/"
    },
    "executionInfo": {
     "elapsed": 329,
     "status": "ok",
     "timestamp": 1676620149574,
     "user": {
      "displayName": "Wiktoria Kuna",
      "userId": "08275483741256386976"
     },
     "user_tz": -60
    },
    "id": "MprNl5ONluu3",
    "outputId": "310137e0-cb62-4cbc-f1da-f94bf0313b32"
   },
   "outputs": [
    {
     "data": {
      "text/plain": [
       "No     1095\n",
       "Yes     146\n",
       "Name: self_employed, dtype: int64"
      ]
     },
     "execution_count": 201,
     "metadata": {},
     "output_type": "execute_result"
    }
   ],
   "source": [
    "df.drop(df[df['self_employed'].isnull()].index, inplace=True)\n",
    "df['self_employed'].value_counts(dropna=False)"
   ]
  },
  {
   "cell_type": "markdown",
   "metadata": {
    "id": "jWyk6Yi0ndUw"
   },
   "source": [
    "### Country"
   ]
  },
  {
   "cell_type": "code",
   "execution_count": 219,
   "metadata": {
    "colab": {
     "base_uri": "https://localhost:8080/",
     "height": 363
    },
    "executionInfo": {
     "elapsed": 254,
     "status": "ok",
     "timestamp": 1676620684543,
     "user": {
      "displayName": "Wiktoria Kuna",
      "userId": "08275483741256386976"
     },
     "user_tz": -60
    },
    "id": "fKDd9yYvYTMn",
    "outputId": "b51bbc6f-4e47-4587-ffc5-993922c2cf49"
   },
   "outputs": [
    {
     "data": {
      "text/html": [
       "\n",
       "  <div id=\"df-4c3f8191-e2fd-43d1-b376-8dd646ac6bb1\">\n",
       "    <div class=\"colab-df-container\">\n",
       "      <div>\n",
       "<style scoped>\n",
       "    .dataframe tbody tr th:only-of-type {\n",
       "        vertical-align: middle;\n",
       "    }\n",
       "\n",
       "    .dataframe tbody tr th {\n",
       "        vertical-align: top;\n",
       "    }\n",
       "\n",
       "    .dataframe thead th {\n",
       "        text-align: right;\n",
       "    }\n",
       "</style>\n",
       "<table border=\"1\" class=\"dataframe\">\n",
       "  <thead>\n",
       "    <tr style=\"text-align: right;\">\n",
       "      <th></th>\n",
       "      <th>No of records</th>\n",
       "      <th>Percent of total</th>\n",
       "    </tr>\n",
       "  </thead>\n",
       "  <tbody>\n",
       "    <tr>\n",
       "      <th>United States</th>\n",
       "      <td>740</td>\n",
       "      <td>0.587768</td>\n",
       "    </tr>\n",
       "    <tr>\n",
       "      <th>United Kingdom</th>\n",
       "      <td>183</td>\n",
       "      <td>0.145353</td>\n",
       "    </tr>\n",
       "    <tr>\n",
       "      <th>Canada</th>\n",
       "      <td>68</td>\n",
       "      <td>0.054011</td>\n",
       "    </tr>\n",
       "    <tr>\n",
       "      <th>Germany</th>\n",
       "      <td>45</td>\n",
       "      <td>0.035743</td>\n",
       "    </tr>\n",
       "    <tr>\n",
       "      <th>Ireland</th>\n",
       "      <td>27</td>\n",
       "      <td>0.021446</td>\n",
       "    </tr>\n",
       "    <tr>\n",
       "      <th>Netherlands</th>\n",
       "      <td>27</td>\n",
       "      <td>0.021446</td>\n",
       "    </tr>\n",
       "    <tr>\n",
       "      <th>Australia</th>\n",
       "      <td>21</td>\n",
       "      <td>0.016680</td>\n",
       "    </tr>\n",
       "    <tr>\n",
       "      <th>France</th>\n",
       "      <td>13</td>\n",
       "      <td>0.010326</td>\n",
       "    </tr>\n",
       "    <tr>\n",
       "      <th>India</th>\n",
       "      <td>10</td>\n",
       "      <td>0.007943</td>\n",
       "    </tr>\n",
       "    <tr>\n",
       "      <th>New Zealand</th>\n",
       "      <td>8</td>\n",
       "      <td>0.006354</td>\n",
       "    </tr>\n",
       "  </tbody>\n",
       "</table>\n",
       "</div>\n",
       "      <button class=\"colab-df-convert\" onclick=\"convertToInteractive('df-4c3f8191-e2fd-43d1-b376-8dd646ac6bb1')\"\n",
       "              title=\"Convert this dataframe to an interactive table.\"\n",
       "              style=\"display:none;\">\n",
       "        \n",
       "  <svg xmlns=\"http://www.w3.org/2000/svg\" height=\"24px\"viewBox=\"0 0 24 24\"\n",
       "       width=\"24px\">\n",
       "    <path d=\"M0 0h24v24H0V0z\" fill=\"none\"/>\n",
       "    <path d=\"M18.56 5.44l.94 2.06.94-2.06 2.06-.94-2.06-.94-.94-2.06-.94 2.06-2.06.94zm-11 1L8.5 8.5l.94-2.06 2.06-.94-2.06-.94L8.5 2.5l-.94 2.06-2.06.94zm10 10l.94 2.06.94-2.06 2.06-.94-2.06-.94-.94-2.06-.94 2.06-2.06.94z\"/><path d=\"M17.41 7.96l-1.37-1.37c-.4-.4-.92-.59-1.43-.59-.52 0-1.04.2-1.43.59L10.3 9.45l-7.72 7.72c-.78.78-.78 2.05 0 2.83L4 21.41c.39.39.9.59 1.41.59.51 0 1.02-.2 1.41-.59l7.78-7.78 2.81-2.81c.8-.78.8-2.07 0-2.86zM5.41 20L4 18.59l7.72-7.72 1.47 1.35L5.41 20z\"/>\n",
       "  </svg>\n",
       "      </button>\n",
       "      \n",
       "  <style>\n",
       "    .colab-df-container {\n",
       "      display:flex;\n",
       "      flex-wrap:wrap;\n",
       "      gap: 12px;\n",
       "    }\n",
       "\n",
       "    .colab-df-convert {\n",
       "      background-color: #E8F0FE;\n",
       "      border: none;\n",
       "      border-radius: 50%;\n",
       "      cursor: pointer;\n",
       "      display: none;\n",
       "      fill: #1967D2;\n",
       "      height: 32px;\n",
       "      padding: 0 0 0 0;\n",
       "      width: 32px;\n",
       "    }\n",
       "\n",
       "    .colab-df-convert:hover {\n",
       "      background-color: #E2EBFA;\n",
       "      box-shadow: 0px 1px 2px rgba(60, 64, 67, 0.3), 0px 1px 3px 1px rgba(60, 64, 67, 0.15);\n",
       "      fill: #174EA6;\n",
       "    }\n",
       "\n",
       "    [theme=dark] .colab-df-convert {\n",
       "      background-color: #3B4455;\n",
       "      fill: #D2E3FC;\n",
       "    }\n",
       "\n",
       "    [theme=dark] .colab-df-convert:hover {\n",
       "      background-color: #434B5C;\n",
       "      box-shadow: 0px 1px 3px 1px rgba(0, 0, 0, 0.15);\n",
       "      filter: drop-shadow(0px 1px 2px rgba(0, 0, 0, 0.3));\n",
       "      fill: #FFFFFF;\n",
       "    }\n",
       "  </style>\n",
       "\n",
       "      <script>\n",
       "        const buttonEl =\n",
       "          document.querySelector('#df-4c3f8191-e2fd-43d1-b376-8dd646ac6bb1 button.colab-df-convert');\n",
       "        buttonEl.style.display =\n",
       "          google.colab.kernel.accessAllowed ? 'block' : 'none';\n",
       "\n",
       "        async function convertToInteractive(key) {\n",
       "          const element = document.querySelector('#df-4c3f8191-e2fd-43d1-b376-8dd646ac6bb1');\n",
       "          const dataTable =\n",
       "            await google.colab.kernel.invokeFunction('convertToInteractive',\n",
       "                                                     [key], {});\n",
       "          if (!dataTable) return;\n",
       "\n",
       "          const docLinkHtml = 'Like what you see? Visit the ' +\n",
       "            '<a target=\"_blank\" href=https://colab.research.google.com/notebooks/data_table.ipynb>data table notebook</a>'\n",
       "            + ' to learn more about interactive tables.';\n",
       "          element.innerHTML = '';\n",
       "          dataTable['output_type'] = 'display_data';\n",
       "          await google.colab.output.renderOutput(dataTable, element);\n",
       "          const docLink = document.createElement('div');\n",
       "          docLink.innerHTML = docLinkHtml;\n",
       "          element.appendChild(docLink);\n",
       "        }\n",
       "      </script>\n",
       "    </div>\n",
       "  </div>\n",
       "  "
      ],
      "text/plain": [
       "                No of records  Percent of total\n",
       "United States             740          0.587768\n",
       "United Kingdom            183          0.145353\n",
       "Canada                     68          0.054011\n",
       "Germany                    45          0.035743\n",
       "Ireland                    27          0.021446\n",
       "Netherlands                27          0.021446\n",
       "Australia                  21          0.016680\n",
       "France                     13          0.010326\n",
       "India                      10          0.007943\n",
       "New Zealand                 8          0.006354"
      ]
     },
     "execution_count": 219,
     "metadata": {},
     "output_type": "execute_result"
    }
   ],
   "source": [
    "total = df['Country'].value_counts()[:10]\n",
    "percent_of_all = total / total_records\n",
    "pd.concat([total, percent_of_all.sort_values(ascending=False)],\n",
    "          axis=1, keys=['No of records', 'Percent of total'])"
   ]
  },
  {
   "cell_type": "code",
   "execution_count": 220,
   "metadata": {
    "colab": {
     "base_uri": "https://localhost:8080/",
     "height": 336
    },
    "executionInfo": {
     "elapsed": 637,
     "status": "ok",
     "timestamp": 1676620687541,
     "user": {
      "displayName": "Wiktoria Kuna",
      "userId": "08275483741256386976"
     },
     "user_tz": -60
    },
    "id": "E4VStPajnmJH",
    "outputId": "7d19cda8-2f65-4cfe-ed3d-a94227b2ef85"
   },
   "outputs": [
    {
     "data": {
      "image/png": "[encoded data removed]",
      "text/plain": [
       "<Figure size 1584x360 with 1 Axes>"
      ]
     },
     "metadata": {
      "needs_background": "light"
     },
     "output_type": "display_data"
    }
   ],
   "source": [
    "plt.figure(figsize=(22,5))\n",
    "total = total.to_frame()\n",
    "total = total.rename(columns={'Country': 'No of records'})\n",
    "ax = sns.barplot(x=total.index, y='No of records', data=total)\n",
    "ax = ax.set_title(\"15 most popular countries\")"
   ]
  },
  {
   "cell_type": "markdown",
   "metadata": {
    "id": "DIrAEScxn2hB"
   },
   "source": [
    "By looking at the `Country` values distribution, it seems that the survey was very United States based.\\\n",
    "It seems that including this column for our models' learning would cause us confusion since for most of the coutries there's not nearly enough answers to predict a sensible outcome.\n",
    "\n",
    "Also, we don't have answers for all the countries, therefore, we would need to make some workarounds for countries non-present in the survey.\n",
    "\n",
    "It seems fair to not take the origin country into the account."
   ]
  },
  {
   "cell_type": "code",
   "execution_count": 137,
   "metadata": {
    "executionInfo": {
     "elapsed": 18,
     "status": "ok",
     "timestamp": 1676618243445,
     "user": {
      "displayName": "Wiktoria Kuna",
      "userId": "08275483741256386976"
     },
     "user_tz": -60
    },
    "id": "koXJZuqQqXGW"
   },
   "outputs": [],
   "source": [
    "df.drop(columns=[\"Country\"], inplace=True)"
   ]
  },
  {
   "cell_type": "markdown",
   "metadata": {
    "id": "-QSJxKztq2k5"
   },
   "source": [
    "For our questions, we also don't need a `Timestamp` column."
   ]
  },
  {
   "cell_type": "code",
   "execution_count": 138,
   "metadata": {
    "executionInfo": {
     "elapsed": 18,
     "status": "ok",
     "timestamp": 1676618243445,
     "user": {
      "displayName": "Wiktoria Kuna",
      "userId": "08275483741256386976"
     },
     "user_tz": -60
    },
    "id": "j79TeHuLrLrs"
   },
   "outputs": [],
   "source": [
    "df.drop(columns=[\"Timestamp\"], inplace=True)"
   ]
  },
  {
   "cell_type": "markdown",
   "metadata": {
    "id": "p40gy9hFr6Lw"
   },
   "source": [
    "### Age"
   ]
  },
  {
   "cell_type": "code",
   "execution_count": 139,
   "metadata": {
    "colab": {
     "base_uri": "https://localhost:8080/"
    },
    "executionInfo": {
     "elapsed": 17,
     "status": "ok",
     "timestamp": 1676618243445,
     "user": {
      "displayName": "Wiktoria Kuna",
      "userId": "08275483741256386976"
     },
     "user_tz": -60
    },
    "id": "K6Gw0Sp6r9XK",
    "outputId": "8fc2e999-dd7b-4a10-e04a-11630445cbde"
   },
   "outputs": [
    {
     "data": {
      "text/plain": [
       "array([         46,          36,          29,          31,          41,\n",
       "                33,          35,          34,          37,          32,\n",
       "                30,          42,          40,          27,          38,\n",
       "                50,          24,          18,          28,          26,\n",
       "                22,          44,          23,          19,          25,\n",
       "                39,          45,          21,         -29,          43,\n",
       "                56,          60,          54,         329,          55,\n",
       "       99999999999,          48,          20,          57,          58,\n",
       "                47,          62,          51,          65,          49,\n",
       "             -1726,           5,          53,          61,           8,\n",
       "                11,          -1,          72])"
      ]
     },
     "execution_count": 139,
     "metadata": {},
     "output_type": "execute_result"
    }
   ],
   "source": [
    "df['Age'].unique()"
   ]
  },
  {
   "cell_type": "code",
   "execution_count": 140,
   "metadata": {
    "colab": {
     "base_uri": "https://localhost:8080/"
    },
    "executionInfo": {
     "elapsed": 17,
     "status": "ok",
     "timestamp": 1676618243447,
     "user": {
      "displayName": "Wiktoria Kuna",
      "userId": "08275483741256386976"
     },
     "user_tz": -60
    },
    "id": "kKXV-_mztMS9",
    "outputId": "1c10a228-90de-4e66-9ade-53c90a60819c"
   },
   "outputs": [
    {
     "name": "stdout",
     "output_type": "stream",
     "text": [
      "Total number of records with age < 0 or > 100 is: 5\n"
     ]
    }
   ],
   "source": [
    "print(\"Total number of records with age < 0 or > 100 is: \" +\n",
    "              str(len(list(filter(lambda x: x < 0 or x > 100, df['Age'].tolist())))))"
   ]
  },
  {
   "cell_type": "markdown",
   "metadata": {
    "id": "hrYJbQuJtQwo"
   },
   "source": [
    "Number of invalid ages is marginal so it makes sense to later remove the records containing the numbers outside the <0, 100>.\\\n",
    "Federal law (in US) assumes no minimal age to work for parents' owned buisness as long as it's not hazardous or involve manofacturing so... 0 seems valid?"
   ]
  },
  {
   "cell_type": "code",
   "execution_count": 192,
   "metadata": {
    "colab": {
     "base_uri": "https://localhost:8080/",
     "height": 369
    },
    "executionInfo": {
     "elapsed": 823,
     "status": "ok",
     "timestamp": 1676619614415,
     "user": {
      "displayName": "Wiktoria Kuna",
      "userId": "08275483741256386976"
     },
     "user_tz": -60
    },
    "id": "XnsBo6hVtboQ",
    "outputId": "b2e1289a-5d4e-40bf-ad2a-3e46c6cebc65"
   },
   "outputs": [
    {
     "data": {
      "text/plain": [
       "Text(0.5, 0, 'Age')"
      ]
     },
     "execution_count": 192,
     "metadata": {},
     "output_type": "execute_result"
    },
    {
     "data": {
      "image/png": "[encoded data removed]",
      "text/plain": [
       "<Figure size 720x360 with 1 Axes>"
      ]
     },
     "metadata": {
      "needs_background": "light"
     },
     "output_type": "display_data"
    }
   ],
   "source": [
    "df.drop(df[df['Age'] < 0].index, inplace=True)\n",
    "df.drop(df[df['Age'] > 100].index, inplace=True)\n",
    "\n",
    "plt.figure(figsize=(10,5))\n",
    "sns.histplot(df[\"Age\"], kde=True)\n",
    "plt.title(\"Distribuition of Age\")\n",
    "plt.xlabel(\"Age\")"
   ]
  },
  {
   "cell_type": "markdown",
   "metadata": {
    "id": "RVgNYeGftlA_"
   },
   "source": [
    "### Gender\n"
   ]
  },
  {
   "cell_type": "markdown",
   "metadata": {
    "id": "s3WA9i1qtr5F"
   },
   "source": [
    "The below is the reason why you don't leave `Gender` as the text field in surveys."
   ]
  },
  {
   "cell_type": "code",
   "execution_count": 142,
   "metadata": {
    "colab": {
     "base_uri": "https://localhost:8080/"
    },
    "executionInfo": {
     "elapsed": 15,
     "status": "ok",
     "timestamp": 1676618243447,
     "user": {
      "displayName": "Wiktoria Kuna",
      "userId": "08275483741256386976"
     },
     "user_tz": -60
    },
    "id": "Gi6frFSNtnMT",
    "outputId": "143fd3b2-e62d-402b-df8d-0050ebb1f5e1"
   },
   "outputs": [
    {
     "data": {
      "text/plain": [
       "array(['male', 'Male', 'Female', 'female', 'M', 'm', 'Male-ish', 'maile',\n",
       "       'Trans-female', 'Cis Female', 'F', 'something kinda male?',\n",
       "       'Cis Male', 'Woman', 'f', 'Mal', 'Male (CIS)', 'queer/she/they',\n",
       "       'non-binary', 'Femake', 'woman', 'Make', 'Nah', 'Enby', 'fluid',\n",
       "       'Genderqueer', 'Female ', 'Androgyne', 'Agender',\n",
       "       'cis-female/femme', 'Guy (-ish) ^_^', 'male leaning androgynous',\n",
       "       'Male ', 'Man', 'Trans woman', 'msle', 'Neuter', 'Female (trans)',\n",
       "       'queer', 'Female (cis)', 'Mail', 'cis male', 'A little about you',\n",
       "       'Malr', 'femail', 'Cis Man',\n",
       "       'ostensibly male, unsure what that really means'], dtype=object)"
      ]
     },
     "execution_count": 142,
     "metadata": {},
     "output_type": "execute_result"
    }
   ],
   "source": [
    "df['Gender'].unique()"
   ]
  },
  {
   "cell_type": "markdown",
   "metadata": {
    "id": "MM1vU0rnuSRF"
   },
   "source": [
    "It might be not the smartest idea to alter the data but it seems that the survey author left us no choice.\n",
    "\n",
    "One part is to eliminate the typos, diacritics differences and synonyms(i.e. `Male`, `male`, `m`, `Make`).\n",
    "\n",
    "We'd love to include all the queers, however, the amount of records with each of the mentioned genders is too low to provide trusworthy results. Therefore, we've decided to merge them into `queer/other` category."
   ]
  },
  {
   "cell_type": "code",
   "execution_count": 143,
   "metadata": {
    "colab": {
     "base_uri": "https://localhost:8080/"
    },
    "executionInfo": {
     "elapsed": 14,
     "status": "ok",
     "timestamp": 1676618243447,
     "user": {
      "displayName": "Wiktoria Kuna",
      "userId": "08275483741256386976"
     },
     "user_tz": -60
    },
    "id": "p3jaL4qyutT0",
    "outputId": "3b87ae34-02b5-49ab-eb5d-c46534a4a926"
   },
   "outputs": [
    {
     "data": {
      "text/plain": [
       "male           974\n",
       "female         242\n",
       "queer/other     20\n",
       "Name: Gender, dtype: int64"
      ]
     },
     "execution_count": 143,
     "metadata": {},
     "output_type": "execute_result"
    }
   ],
   "source": [
    "df['Gender'].replace(['Female', 'female', 'Cis Female', 'Woman', 'Femake', 'woman', 'Female ',\n",
    "                     'cis-female/femme', 'Female (cis)', 'femail', 'f', 'F'],\n",
    "                     \"female\", inplace=True)\n",
    "\n",
    "df['Gender'].replace(['M', 'm', 'Male', 'male', 'maile', 'Cis Male', 'Mal', 'Male (CIS)',\n",
    "                     'Make', 'Male ', 'Man', 'msle', 'Mail', 'cis male', 'Malr', 'Cis Man'],\n",
    "                     \"male\", inplace=True)\n",
    "\n",
    "df['Gender'].replace(['Trans woman', 'Female (trans)', 'Male-ish', 'Trans-female', 'something kinda male?',\n",
    "                          'queer/she/they', 'non-binary', 'Nah', 'Enby', 'fluid', 'Genderqueer', 'Androgyne',\n",
    "                          'Agender', 'Guy (-ish) ^_^', 'male leaning androgynous', 'Neuter', 'queer',\n",
    "                          'A little about you', 'ostensibly male, unsure what that really means'],\n",
    "                         \"queer/other\", inplace=True)\n",
    "df['Gender'].value_counts()"
   ]
  },
  {
   "cell_type": "markdown",
   "metadata": {
    "id": "Zr4ppzLkww0A"
   },
   "source": [
    "### Final dataset operations"
   ]
  },
  {
   "cell_type": "markdown",
   "metadata": {
    "id": "FFPSNIEpxKHi"
   },
   "source": [
    "Converting records to categorical data."
   ]
  },
  {
   "cell_type": "code",
   "execution_count": 222,
   "metadata": {
    "executionInfo": {
     "elapsed": 311,
     "status": "ok",
     "timestamp": 1676621371821,
     "user": {
      "displayName": "Wiktoria Kuna",
      "userId": "08275483741256386976"
     },
     "user_tz": -60
    },
    "id": "dZFAr-xwxLS1"
   },
   "outputs": [],
   "source": [
    "for column in df:\n",
    "    df[column] = df[column].astype('category').cat.codes"
   ]
  },
  {
   "cell_type": "markdown",
   "metadata": {
    "id": "azDDXIDk3pYx"
   },
   "source": [
    "And normalizing data:"
   ]
  },
  {
   "cell_type": "code",
   "execution_count": 145,
   "metadata": {
    "executionInfo": {
     "elapsed": 8,
     "status": "ok",
     "timestamp": 1676618243686,
     "user": {
      "displayName": "Wiktoria Kuna",
      "userId": "08275483741256386976"
     },
     "user_tz": -60
    },
    "id": "yVCyL1gq3o2_"
   },
   "outputs": [],
   "source": [
    "normalized_df = df\n",
    "\n",
    "for column in df:\n",
    "    c = df[column]\n",
    "    normalized_df[column] = (c - c.min(axis=0)) / c.max(axis=0)"
   ]
  },
  {
   "cell_type": "markdown",
   "metadata": {
    "id": "MHwELPuuKluy"
   },
   "source": [
    "Splitting dataset into train and test data:"
   ]
  },
  {
   "cell_type": "code",
   "execution_count": 146,
   "metadata": {
    "executionInfo": {
     "elapsed": 8,
     "status": "ok",
     "timestamp": 1676618243686,
     "user": {
      "displayName": "Wiktoria Kuna",
      "userId": "08275483741256386976"
     },
     "user_tz": -60
    },
    "id": "BYbxZlDXKlYm"
   },
   "outputs": [],
   "source": [
    "def split_data(question_no, df, n_train):\n",
    "    features = ['Age', 'Gender', 'self_employed', 'family_history',\n",
    "                'work_interfere', 'no_employees', 'remote_work',\n",
    "                'tech_company', 'benefits', 'care_options', 'wellness_program',\n",
    "                'seek_help', 'anonymity', 'leave', 'phys_health_consequence',\n",
    "                'coworkers', 'supervisor', 'mental_health_interview',\n",
    "                'phys_health_interview', 'mental_vs_physical',\n",
    "                'obs_consequence']\n",
    "\n",
    "    y_label = None\n",
    "\n",
    "    # Should you seek help\n",
    "    if question_no == 0:\n",
    "        features.append('mental_health_consequence')\n",
    "        y_label = 'treatment'\n",
    "\n",
    "    # Is this good workplace for my mental health\n",
    "    elif question_no == 1:\n",
    "        features.append('treatment')\n",
    "        y_label = 'mental_health_consequence'\n",
    "\n",
    "    X = df[features].to_numpy()\n",
    "    y = df[y_label].to_numpy()\n",
    "\n",
    "    no_records = len(y)\n",
    "    n_train = int(no_records * 0.85)\n",
    "    X_train, X_test, y_train, y_test = X[:n_train], \\\n",
    "        X[n_train + 1:], y[:n_train], y[n_train + 1:]\n",
    "\n",
    "    return {\"X_train\": X_train,\n",
    "            \"X_test\": X_test,\n",
    "            \"y_train\": y_train,\n",
    "            \"y_test\": y_test}\n"
   ]
  },
  {
   "cell_type": "markdown",
   "metadata": {
    "id": "ZxXiVUuzcGW0"
   },
   "source": [
    "### Parameters correlation"
   ]
  },
  {
   "cell_type": "code",
   "execution_count": 234,
   "metadata": {
    "colab": {
     "base_uri": "https://localhost:8080/",
     "height": 680
    },
    "executionInfo": {
     "elapsed": 1205,
     "status": "ok",
     "timestamp": 1676621588660,
     "user": {
      "displayName": "Wiktoria Kuna",
      "userId": "08275483741256386976"
     },
     "user_tz": -60
    },
    "id": "cK1-E9Mrau-W",
    "outputId": "732bafad-431a-4658-facb-107bcf16ffd8"
   },
   "outputs": [
    {
     "data": {
      "image/png": "[encoded data removed]",
      "text/plain": [
       "<Figure size 720x720 with 2 Axes>"
      ]
     },
     "metadata": {
      "needs_background": "light"
     },
     "output_type": "display_data"
    }
   ],
   "source": [
    "# calc correlation matrix\n",
    "corr = df.corr()\n",
    "\n",
    "# display correlation matrix\n",
    "plt.figure(figsize=(10,10))\n",
    "sns.heatmap(corr, vmax=1, square=True)\n",
    "plt.show()\n"
   ]
  },
  {
   "cell_type": "markdown",
   "metadata": {
    "id": "77i6wxpiwRKh"
   },
   "source": [
    "## Logistic Regression"
   ]
  },
  {
   "cell_type": "markdown",
   "metadata": {
    "id": "eDcSTmmTQbF0"
   },
   "source": [
    "First approach is Logistic Regression. We are going to use pytorch for it, so let's split data and convert the data to tensors"
   ]
  },
  {
   "cell_type": "code",
   "execution_count": 147,
   "metadata": {
    "executionInfo": {
     "elapsed": 7,
     "status": "ok",
     "timestamp": 1676618243686,
     "user": {
      "displayName": "Wiktoria Kuna",
      "userId": "08275483741256386976"
     },
     "user_tz": -60
    },
    "id": "s4ewIl9SQuax"
   },
   "outputs": [],
   "source": [
    "question_no = 0\n",
    "data_after_split = split_data(question_no, df, 0)\n",
    "\n",
    "X_train = torch.tensor(data_after_split[\"X_train\"])\n",
    "y_train = torch.tensor(data_after_split[\"y_train\"])\n",
    "X_test = torch.tensor(data_after_split[\"X_test\"])\n",
    "y_test = torch.tensor(data_after_split[\"y_test\"])"
   ]
  },
  {
   "cell_type": "markdown",
   "metadata": {
    "id": "Zdm8X9YPRXG0"
   },
   "source": [
    "Implementation of the class for this model:"
   ]
  },
  {
   "cell_type": "code",
   "execution_count": 148,
   "metadata": {
    "executionInfo": {
     "elapsed": 7,
     "status": "ok",
     "timestamp": 1676618243686,
     "user": {
      "displayName": "Wiktoria Kuna",
      "userId": "08275483741256386976"
     },
     "user_tz": -60
    },
    "id": "w88zANklRbYg"
   },
   "outputs": [],
   "source": [
    "class Regression_model(nn.Module):\n",
    "    def __init__(self, input_shape, output_shape):\n",
    "        super(Regression_model, self).__init__()\n",
    "        self.linear = nn.Linear(\n",
    "            input_shape,\n",
    "            output_shape,\n",
    "            dtype=torch.float64)\n",
    "\n",
    "    def forward(self, x):\n",
    "        if question_no == 0:\n",
    "            y_pred = torch.sigmoid(self.linear(x))\n",
    "        else:\n",
    "            y_pred = self.linear(x)\n",
    "        return y_pred\n",
    "\n",
    "    def predict(self, x):\n",
    "        preds = self.forward(x)\n",
    "        if (question_no == 0):\n",
    "            return torch.round(preds).flatten()\n",
    "        else:\n",
    "            return torch.argmax(preds, dim=1)\n"
   ]
  },
  {
   "cell_type": "markdown",
   "metadata": {
    "id": "WAr22WacRuD8"
   },
   "source": [
    "A function for calculating accuracy of the results:"
   ]
  },
  {
   "cell_type": "code",
   "execution_count": 149,
   "metadata": {
    "executionInfo": {
     "elapsed": 7,
     "status": "ok",
     "timestamp": 1676618243687,
     "user": {
      "displayName": "Wiktoria Kuna",
      "userId": "08275483741256386976"
     },
     "user_tz": -60
    },
    "id": "_0lxcI4HRtu2"
   },
   "outputs": [],
   "source": [
    "def calc_accuracy(model):\n",
    "    predictions = model.predict(X_test)\n",
    "\n",
    "    if question_no == 0:\n",
    "        sum = torch.sum(predictions == y_test)\n",
    "    else:\n",
    "        sum = torch.sum(predictions == y_test*2)\n",
    "\n",
    "    accuracy = sum/X_test.shape[0]\n",
    "    return accuracy"
   ]
  },
  {
   "cell_type": "markdown",
   "metadata": {
    "id": "zSATMTGvR0bA"
   },
   "source": [
    "Some constants:"
   ]
  },
  {
   "cell_type": "code",
   "execution_count": 150,
   "metadata": {
    "executionInfo": {
     "elapsed": 7,
     "status": "ok",
     "timestamp": 1676618243687,
     "user": {
      "displayName": "Wiktoria Kuna",
      "userId": "08275483741256386976"
     },
     "user_tz": -60
    },
    "id": "n2ElP3n0R0EC"
   },
   "outputs": [],
   "source": [
    "epochs = 20000\n",
    "input_dim = 22\n",
    "if question_no == 0:\n",
    "    output_dim = 1  # Single binary output\n",
    "else:\n",
    "    output_dim = 3 # three outputs for second question\n",
    "\n",
    "lrs = [0.001, 0.01, 0.02, 0.1]  # learning rates"
   ]
  },
  {
   "cell_type": "markdown",
   "metadata": {
    "id": "lfC0fgp0SIon"
   },
   "source": [
    "Initialization of the model and loss function:"
   ]
  },
  {
   "cell_type": "code",
   "execution_count": 151,
   "metadata": {
    "executionInfo": {
     "elapsed": 6,
     "status": "ok",
     "timestamp": 1676618243687,
     "user": {
      "displayName": "Wiktoria Kuna",
      "userId": "08275483741256386976"
     },
     "user_tz": -60
    },
    "id": "uDpBu6QYSOPu"
   },
   "outputs": [],
   "source": [
    "model = Regression_model(input_dim, output_dim)\n",
    "criterion = torch.nn.CrossEntropyLoss()"
   ]
  },
  {
   "cell_type": "markdown",
   "metadata": {
    "id": "OYRKMovUSYGk"
   },
   "source": [
    "Calculating the results for the first question:"
   ]
  },
  {
   "cell_type": "code",
   "execution_count": 152,
   "metadata": {
    "executionInfo": {
     "elapsed": 6,
     "status": "ok",
     "timestamp": 1676618243687,
     "user": {
      "displayName": "Wiktoria Kuna",
      "userId": "08275483741256386976"
     },
     "user_tz": -60
    },
    "id": "_UYs6vrESXvR"
   },
   "outputs": [],
   "source": [
    "def calc_logistic_regression(no_question):\n",
    "    accs = {}\n",
    "    for lr in lrs:\n",
    "        optimizer = torch.optim.SGD(model.parameters(), lr=lr)\n",
    "        for epoch in range(epochs):\n",
    "            x = X_train\n",
    "            labels = y_train\n",
    "            optimizer.zero_grad()\n",
    "            outputs = model(x)\n",
    "            if question_no == 0:\n",
    "                loss = criterion(torch.squeeze(outputs), labels)\n",
    "            else:\n",
    "                # labels must be type Long\n",
    "                loss = criterion(torch.squeeze(outputs), (labels*2).long())\n",
    "            # exit(0)\n",
    "\n",
    "            loss.backward()\n",
    "            optimizer.step()\n",
    "\n",
    "            # if epoch % 2500 == 0:\n",
    "            #     print(f'{epoch=}', \"loss:\", loss.item())\n",
    "        acc = calc_accuracy(model).item()\n",
    "        print(\"learning rate:\", lr, \"accuracy:\", round(acc * 100, 3), '%')\n",
    "        accs[lr] = acc\n",
    "    return max(accs.values())"
   ]
  },
  {
   "cell_type": "code",
   "execution_count": 153,
   "metadata": {
    "colab": {
     "base_uri": "https://localhost:8080/"
    },
    "executionInfo": {
     "elapsed": 59491,
     "status": "ok",
     "timestamp": 1676618303173,
     "user": {
      "displayName": "Wiktoria Kuna",
      "userId": "08275483741256386976"
     },
     "user_tz": -60
    },
    "id": "FQVOSSAuT2aE",
    "outputId": "f00aed10-0ea1-4304-a288-2d33724e022a"
   },
   "outputs": [
    {
     "name": "stdout",
     "output_type": "stream",
     "text": [
      "learning rate: 0.001 accuracy: 81.081 %\n",
      "learning rate: 0.01 accuracy: 81.081 %\n",
      "learning rate: 0.02 accuracy: 81.622 %\n",
      "learning rate: 0.1 accuracy: 80.0 %\n"
     ]
    }
   ],
   "source": [
    "best_acc = calc_logistic_regression(question_no)"
   ]
  },
  {
   "cell_type": "code",
   "execution_count": 154,
   "metadata": {
    "executionInfo": {
     "elapsed": 8,
     "status": "ok",
     "timestamp": 1676618303174,
     "user": {
      "displayName": "Wiktoria Kuna",
      "userId": "08275483741256386976"
     },
     "user_tz": -60
    },
    "id": "G5TUauTvtedE"
   },
   "outputs": [],
   "source": [
    "results0[\"LogisticRegression\"] = best_acc"
   ]
  },
  {
   "cell_type": "markdown",
   "metadata": {
    "id": "UbqDlcg7S6u5"
   },
   "source": [
    "And the same for the second question:"
   ]
  },
  {
   "cell_type": "code",
   "execution_count": 155,
   "metadata": {
    "executionInfo": {
     "elapsed": 7,
     "status": "ok",
     "timestamp": 1676618303174,
     "user": {
      "displayName": "Wiktoria Kuna",
      "userId": "08275483741256386976"
     },
     "user_tz": -60
    },
    "id": "KKMJ5mxES-i9"
   },
   "outputs": [],
   "source": [
    "question_no = 1\n",
    "data_after_split = split_data(question_no, df, 0)\n",
    "\n",
    "X_train = torch.tensor(data_after_split[\"X_train\"])\n",
    "y_train = torch.tensor(data_after_split[\"y_train\"])\n",
    "X_test = torch.tensor(data_after_split[\"X_test\"])\n",
    "y_test = torch.tensor(data_after_split[\"y_test\"])"
   ]
  },
  {
   "cell_type": "code",
   "execution_count": 156,
   "metadata": {
    "executionInfo": {
     "elapsed": 7,
     "status": "ok",
     "timestamp": 1676618303175,
     "user": {
      "displayName": "Wiktoria Kuna",
      "userId": "08275483741256386976"
     },
     "user_tz": -60
    },
    "id": "GSlMNpXmTIHJ"
   },
   "outputs": [],
   "source": [
    "if question_no == 0:\n",
    "    output_dim = 1  # Single binary output\n",
    "else:\n",
    "    output_dim = 3 # three outputs for second question"
   ]
  },
  {
   "cell_type": "code",
   "execution_count": 157,
   "metadata": {
    "executionInfo": {
     "elapsed": 6,
     "status": "ok",
     "timestamp": 1676618303175,
     "user": {
      "displayName": "Wiktoria Kuna",
      "userId": "08275483741256386976"
     },
     "user_tz": -60
    },
    "id": "qfetYNLyTWs8"
   },
   "outputs": [],
   "source": [
    "model = Regression_model(input_dim, output_dim)"
   ]
  },
  {
   "cell_type": "code",
   "execution_count": 158,
   "metadata": {
    "colab": {
     "base_uri": "https://localhost:8080/"
    },
    "executionInfo": {
     "elapsed": 65710,
     "status": "ok",
     "timestamp": 1676618368879,
     "user": {
      "displayName": "Wiktoria Kuna",
      "userId": "08275483741256386976"
     },
     "user_tz": -60
    },
    "id": "THe9Ea7BTa05",
    "outputId": "5bed8f1e-864c-40ed-f94c-1a54e19d0a2a"
   },
   "outputs": [
    {
     "name": "stdout",
     "output_type": "stream",
     "text": [
      "learning rate: 0.001 accuracy: 56.757 %\n",
      "learning rate: 0.01 accuracy: 62.162 %\n",
      "learning rate: 0.02 accuracy: 62.162 %\n",
      "learning rate: 0.1 accuracy: 62.162 %\n"
     ]
    }
   ],
   "source": [
    "best_acc = calc_logistic_regression(question_no)"
   ]
  },
  {
   "cell_type": "code",
   "execution_count": 159,
   "metadata": {
    "executionInfo": {
     "elapsed": 9,
     "status": "ok",
     "timestamp": 1676618368880,
     "user": {
      "displayName": "Wiktoria Kuna",
      "userId": "08275483741256386976"
     },
     "user_tz": -60
    },
    "id": "LuiFqlSjtv9D"
   },
   "outputs": [],
   "source": [
    "results1[\"LogisticRegression\"] = best_acc"
   ]
  },
  {
   "cell_type": "markdown",
   "metadata": {
    "id": "YawzD09EwYiG"
   },
   "source": [
    "## k-Nearest Neighbours"
   ]
  },
  {
   "cell_type": "markdown",
   "metadata": {
    "id": "V8P8-OiMyEV3"
   },
   "source": [
    "The kNN implementation to compute predictions for given `k`s."
   ]
  },
  {
   "cell_type": "code",
   "execution_count": 160,
   "metadata": {
    "executionInfo": {
     "elapsed": 8,
     "status": "ok",
     "timestamp": 1676618368881,
     "user": {
      "displayName": "Wiktoria Kuna",
      "userId": "08275483741256386976"
     },
     "user_tz": -60
    },
    "id": "qinY2tC-xjgj"
   },
   "outputs": [],
   "source": [
    "def KNN(train_X, train_Y, test_X, ks):\n",
    "    \"\"\"\n",
    "    Compute predictions for various k\n",
    "    Args:\n",
    "        train_X: array of shape Ntrain x D\n",
    "        train_Y: array of shape Ntrain\n",
    "        test_X: array of shape Ntest x D\n",
    "        ks: list of integers\n",
    "    Returns:\n",
    "        preds: dict k: predictions for k\n",
    "    \"\"\"\n",
    "    # Cats data to float32\n",
    "    train_X = train_X.astype(np.float32)\n",
    "    test_X = test_X.astype(np.float32)\n",
    "\n",
    "    # Alloc space for results\n",
    "    preds = {}\n",
    "\n",
    "    dists = np.sum(test_X**2, axis=1) - 2 * np.dot(train_X,\n",
    "                                                   test_X.T) + np.sum(train_X**2, axis=1)[:, np.newaxis]\n",
    "\n",
    "    closest = np.argsort(dists, axis=0)\n",
    "\n",
    "    targets = train_Y[closest]\n",
    "\n",
    "    for k in ks:\n",
    "        predictions = sstats.mode(targets[:k])[0].ravel()\n",
    "        preds[k] = predictions\n",
    "\n",
    "    return preds"
   ]
  },
  {
   "cell_type": "markdown",
   "metadata": {
    "id": "PpIWSfBqyWJ-"
   },
   "source": [
    "The function to compute error rates for each prediction."
   ]
  },
  {
   "cell_type": "code",
   "execution_count": 161,
   "metadata": {
    "executionInfo": {
     "elapsed": 7,
     "status": "ok",
     "timestamp": 1676618368882,
     "user": {
      "displayName": "Wiktoria Kuna",
      "userId": "08275483741256386976"
     },
     "user_tz": -60
    },
    "id": "QwSxoRQQyUEI"
   },
   "outputs": [],
   "source": [
    "def err_rates(preds, test_Y):\n",
    "    ret = {}\n",
    "    for k, preds_k in preds.items():\n",
    "        ret[k] = np.mean(preds_k != test_Y)\n",
    "    return ret"
   ]
  },
  {
   "cell_type": "markdown",
   "metadata": {
    "id": "gqVwmPyHyyAh"
   },
   "source": [
    "Perform kNN for given question.\n",
    "\n",
    "Tests kNN with a range of `k`s and reports the computation with least error."
   ]
  },
  {
   "cell_type": "code",
   "execution_count": 162,
   "metadata": {
    "executionInfo": {
     "elapsed": 6,
     "status": "ok",
     "timestamp": 1676618368882,
     "user": {
      "displayName": "Wiktoria Kuna",
      "userId": "08275483741256386976"
     },
     "user_tz": -60
    },
    "id": "XK_VB8kCywci"
   },
   "outputs": [],
   "source": [
    "def kNNCompute(train_X, train_y, test_X, test_y):\n",
    "    ks = range(1, 50)\n",
    "    preds = KNN(train_X, train_y, test_X, ks)\n",
    "    errors = err_rates(preds, test_y)\n",
    "\n",
    "    mink = min(errors, key=errors.get)\n",
    "\n",
    "    print(f\"Minimal error rate: {errors[mink]} for k {mink}\")\n",
    "    return 1 - errors[mink]"
   ]
  },
  {
   "cell_type": "code",
   "execution_count": 163,
   "metadata": {
    "executionInfo": {
     "elapsed": 371,
     "status": "ok",
     "timestamp": 1676618369247,
     "user": {
      "displayName": "Wiktoria Kuna",
      "userId": "08275483741256386976"
     },
     "user_tz": -60
    },
    "id": "FzHhFUcvLtmC"
   },
   "outputs": [],
   "source": [
    "data_after_split = split_data(0, normalized_df, 0)\n",
    "X_train = data_after_split[\"X_train\"]\n",
    "y_train = data_after_split[\"y_train\"]\n",
    "X_test = data_after_split[\"X_test\"]\n",
    "y_test = data_after_split[\"y_test\"]"
   ]
  },
  {
   "cell_type": "code",
   "execution_count": 164,
   "metadata": {
    "colab": {
     "base_uri": "https://localhost:8080/"
    },
    "executionInfo": {
     "elapsed": 282,
     "status": "ok",
     "timestamp": 1676618369526,
     "user": {
      "displayName": "Wiktoria Kuna",
      "userId": "08275483741256386976"
     },
     "user_tz": -60
    },
    "id": "DW_sIXsh4xId",
    "outputId": "972d66c5-dec1-4983-81c7-25c4e0141967"
   },
   "outputs": [
    {
     "name": "stdout",
     "output_type": "stream",
     "text": [
      "Minimal error rate: 0.24324324324324326 for k 19\n"
     ]
    }
   ],
   "source": [
    "acc0 = kNNCompute(X_train, y_train, X_test, y_test)\n",
    "results0[\"knn\"] = acc0"
   ]
  },
  {
   "cell_type": "code",
   "execution_count": 165,
   "metadata": {
    "executionInfo": {
     "elapsed": 283,
     "status": "ok",
     "timestamp": 1676618369806,
     "user": {
      "displayName": "Wiktoria Kuna",
      "userId": "08275483741256386976"
     },
     "user_tz": -60
    },
    "id": "9CVYxeQpKqyQ"
   },
   "outputs": [],
   "source": [
    "data_after_split = split_data(1, normalized_df, 0)\n",
    "X_train = data_after_split[\"X_train\"]\n",
    "y_train = data_after_split[\"y_train\"]\n",
    "X_test = data_after_split[\"X_test\"]\n",
    "y_test = data_after_split[\"y_test\"]"
   ]
  },
  {
   "cell_type": "code",
   "execution_count": 166,
   "metadata": {
    "colab": {
     "base_uri": "https://localhost:8080/"
    },
    "executionInfo": {
     "elapsed": 527,
     "status": "ok",
     "timestamp": 1676618370332,
     "user": {
      "displayName": "Wiktoria Kuna",
      "userId": "08275483741256386976"
     },
     "user_tz": -60
    },
    "id": "Lr19qa2l6TNz",
    "outputId": "3b5e1574-b3c2-4e4e-8ed0-b9c8e533f99c"
   },
   "outputs": [
    {
     "name": "stdout",
     "output_type": "stream",
     "text": [
      "Minimal error rate: 0.3783783783783784 for k 26\n"
     ]
    }
   ],
   "source": [
    "acc1 = kNNCompute(X_train, y_train, X_test, y_test)\n",
    "results1[\"knn\"] = acc1"
   ]
  },
  {
   "cell_type": "markdown",
   "metadata": {
    "id": "JPRjzc7kwdxQ"
   },
   "source": [
    "## Random Forest"
   ]
  },
  {
   "cell_type": "markdown",
   "metadata": {
    "id": "_2QcnIEXNBr1"
   },
   "source": [
    "Using RandomForestClassifier from sklearn we're able to test a range of different random forest parameters to choose the one that gives us the best accuracy."
   ]
  },
  {
   "cell_type": "code",
   "execution_count": 167,
   "metadata": {
    "executionInfo": {
     "elapsed": 7,
     "status": "ok",
     "timestamp": 1676618370333,
     "user": {
      "displayName": "Wiktoria Kuna",
      "userId": "08275483741256386976"
     },
     "user_tz": -60
    },
    "id": "ceIaTLTr6d-U"
   },
   "outputs": [],
   "source": [
    "def randForest(params, train_X, train_y, test_X, test_y):\n",
    "    \"\"\"\n",
    "    Fit & predict for range of\n",
    "    different parameters in order\n",
    "    to find the set with the best \n",
    "    accuracy\n",
    "    \"\"\"\n",
    "    sets = params.values()\n",
    "    params_seq = list(itertools.product(*sets))\n",
    "\n",
    "    acc = {} # dict to store accuracies of each set of parameters\n",
    "    pred = {} # dict to store predictions for each set of parameters\n",
    "\n",
    "    for seq in params_seq:\n",
    "        ne, md, mf, mss, msl, c = seq\n",
    "        forest = RandomForestClassifier(\n",
    "            n_estimators=ne, max_depth=md, max_features=mf, min_samples_split=mss, min_samples_leaf=msl, criterion=c)\n",
    "        tf = forest.fit(train_X, train_y)\n",
    "        pred[seq] = tf.predict(test_X)\n",
    "        acc[seq] = accuracy_score(test_y, pred[seq])\n",
    "\n",
    "    max_key = max(acc, key=acc.get)\n",
    "    print(f\"Max accuracy {acc[max_key]} is produced by {max_key}\")\n",
    "    return acc[max_key]"
   ]
  },
  {
   "cell_type": "markdown",
   "metadata": {
    "id": "vjtVULsGM1D4"
   },
   "source": [
    "Let's compute random forest with different sets of parameters and see what works best for us."
   ]
  },
  {
   "cell_type": "code",
   "execution_count": 168,
   "metadata": {
    "executionInfo": {
     "elapsed": 6,
     "status": "ok",
     "timestamp": 1676618370333,
     "user": {
      "displayName": "Wiktoria Kuna",
      "userId": "08275483741256386976"
     },
     "user_tz": -60
    },
    "id": "0jWztZjM7MZJ"
   },
   "outputs": [],
   "source": [
    "def randForestCompute(train_X, train_y, test_X, test_y, question_no=0):\n",
    "    # Should you seek help\n",
    "    if question_no == 0:\n",
    "        estimators = range(8, 33, 4) # range pre-determined offline (big computations)\n",
    "\n",
    "    # Is this good workplace for my mental health\n",
    "    elif question_no == 1:\n",
    "        estimators = range(188, 200, 4) # range pre-determined offline (big computations)\n",
    "\n",
    "    params_to_go_over = {\"n_estimators\": estimators,\n",
    "                         \"max_depth\": [5, None],\n",
    "                         \"max_features\": [\"sqrt\", \"log2\", None],\n",
    "                         \"min_samples_split\": [2, 4, 8],\n",
    "                         \"min_samples_leaf\": [1, 4, 9],\n",
    "                         \"criterion\": [\"gini\", \"entropy\"]}\n",
    "\n",
    "    return randForest(params_to_go_over, train_X, train_y, test_X, test_y)"
   ]
  },
  {
   "cell_type": "code",
   "execution_count": 169,
   "metadata": {
    "executionInfo": {
     "elapsed": 6,
     "status": "ok",
     "timestamp": 1676618370334,
     "user": {
      "displayName": "Wiktoria Kuna",
      "userId": "08275483741256386976"
     },
     "user_tz": -60
    },
    "id": "q5ugdgkFLsdU"
   },
   "outputs": [],
   "source": [
    "data_after_split = split_data(0, df, 0)\n",
    "X_train = data_after_split[\"X_train\"]\n",
    "y_train = data_after_split[\"y_train\"]\n",
    "X_test = data_after_split[\"X_test\"]\n",
    "y_test = data_after_split[\"y_test\"]"
   ]
  },
  {
   "cell_type": "code",
   "execution_count": 171,
   "metadata": {
    "colab": {
     "base_uri": "https://localhost:8080/"
    },
    "executionInfo": {
     "elapsed": 48836,
     "status": "ok",
     "timestamp": 1676618447079,
     "user": {
      "displayName": "Wiktoria Kuna",
      "userId": "08275483741256386976"
     },
     "user_tz": -60
    },
    "id": "c1Rqs8Vw8UvZ",
    "outputId": "619b81cd-17b4-440e-8a28-0d5ae0620614"
   },
   "outputs": [
    {
     "name": "stdout",
     "output_type": "stream",
     "text": [
      "Max accuracy 0.8594594594594595 is produced by (32, 5, None, 2, 9, 'entropy')\n"
     ]
    }
   ],
   "source": [
    "rf0 = randForestCompute(X_train, y_train, X_test, y_test, question_no=0)\n",
    "results0[\"RandomForest\"] = rf0"
   ]
  },
  {
   "cell_type": "code",
   "execution_count": 172,
   "metadata": {
    "executionInfo": {
     "elapsed": 255,
     "status": "ok",
     "timestamp": 1676618496462,
     "user": {
      "displayName": "Wiktoria Kuna",
      "userId": "08275483741256386976"
     },
     "user_tz": -60
    },
    "id": "eLK_xTkVYgaq"
   },
   "outputs": [],
   "source": [
    "for column in df:\n",
    "    df[column] = df[column].astype('category').cat.codes"
   ]
  },
  {
   "cell_type": "code",
   "execution_count": 173,
   "metadata": {
    "executionInfo": {
     "elapsed": 240,
     "status": "ok",
     "timestamp": 1676618498362,
     "user": {
      "displayName": "Wiktoria Kuna",
      "userId": "08275483741256386976"
     },
     "user_tz": -60
    },
    "id": "9IS7xdg2Lt-7"
   },
   "outputs": [],
   "source": [
    "data_after_split = split_data(1, df, 0)\n",
    "X_train = data_after_split[\"X_train\"]\n",
    "y_train = data_after_split[\"y_train\"]\n",
    "X_test = data_after_split[\"X_test\"]\n",
    "y_test = data_after_split[\"y_test\"]"
   ]
  },
  {
   "cell_type": "code",
   "execution_count": 174,
   "metadata": {
    "colab": {
     "base_uri": "https://localhost:8080/"
    },
    "executionInfo": {
     "elapsed": 163414,
     "status": "ok",
     "timestamp": 1676618662817,
     "user": {
      "displayName": "Wiktoria Kuna",
      "userId": "08275483741256386976"
     },
     "user_tz": -60
    },
    "id": "DECHk7gj8XDC",
    "outputId": "b0876187-4b99-4993-b9e5-3d5231d470b8"
   },
   "outputs": [
    {
     "name": "stdout",
     "output_type": "stream",
     "text": [
      "Max accuracy 0.7027027027027027 is produced by (188, 5, None, 4, 9, 'entropy')\n"
     ]
    }
   ],
   "source": [
    "rf1 = randForestCompute(X_train, y_train, X_test, y_test, question_no=1)\n",
    "results1[\"RandomForest\"] = rf1"
   ]
  },
  {
   "cell_type": "markdown",
   "metadata": {
    "id": "kwpGndFOwp1q"
   },
   "source": [
    "## XGBoost"
   ]
  },
  {
   "cell_type": "code",
   "execution_count": 175,
   "metadata": {
    "executionInfo": {
     "elapsed": 16,
     "status": "ok",
     "timestamp": 1676618662817,
     "user": {
      "displayName": "Wiktoria Kuna",
      "userId": "08275483741256386976"
     },
     "user_tz": -60
    },
    "id": "OGMFzfX0qDtO"
   },
   "outputs": [],
   "source": [
    "data_after_split = split_data(0, normalized_df, 0)\n",
    "\n",
    "X_train = data_after_split[\"X_train\"]\n",
    "X_test = data_after_split[\"X_test\"]\n",
    "y_train = data_after_split[\"y_train\"]\n",
    "y_test = data_after_split[\"y_test\"]"
   ]
  },
  {
   "cell_type": "code",
   "execution_count": 176,
   "metadata": {
    "colab": {
     "base_uri": "https://localhost:8080/"
    },
    "executionInfo": {
     "elapsed": 17,
     "status": "ok",
     "timestamp": 1676618662819,
     "user": {
      "displayName": "Wiktoria Kuna",
      "userId": "08275483741256386976"
     },
     "user_tz": -60
    },
    "id": "EtZ7RwCvqFFR",
    "outputId": "c832b985-cc4a-45ab-cd15-11e69c2d249d"
   },
   "outputs": [
    {
     "data": {
      "text/plain": [
       "XGBClassifier()"
      ]
     },
     "execution_count": 176,
     "metadata": {},
     "output_type": "execute_result"
    }
   ],
   "source": [
    "model = XGBClassifier()\n",
    "model.fit(X_train, y_train)"
   ]
  },
  {
   "cell_type": "code",
   "execution_count": 177,
   "metadata": {
    "executionInfo": {
     "elapsed": 14,
     "status": "ok",
     "timestamp": 1676618662819,
     "user": {
      "displayName": "Wiktoria Kuna",
      "userId": "08275483741256386976"
     },
     "user_tz": -60
    },
    "id": "FcwMGCNNrQu_"
   },
   "outputs": [],
   "source": [
    "ypred = model.predict(X_test)"
   ]
  },
  {
   "cell_type": "code",
   "execution_count": 236,
   "metadata": {
    "colab": {
     "base_uri": "https://localhost:8080/"
    },
    "executionInfo": {
     "elapsed": 252,
     "status": "ok",
     "timestamp": 1676625359056,
     "user": {
      "displayName": "Wiktoria Kuna",
      "userId": "08275483741256386976"
     },
     "user_tz": -60
    },
    "id": "84LkU4MarWOI",
    "outputId": "952125e4-6279-4e8b-bf05-cbd61495ffb3"
   },
   "outputs": [
    {
     "name": "stdout",
     "output_type": "stream",
     "text": [
      "0.638\n"
     ]
    }
   ],
   "source": [
    "accuracy0 = (ypred == y_test).sum()/X_test.shape[0]\n",
    "print(accuracy0.round(3))"
   ]
  },
  {
   "cell_type": "code",
   "execution_count": 179,
   "metadata": {
    "executionInfo": {
     "elapsed": 11,
     "status": "ok",
     "timestamp": 1676618662820,
     "user": {
      "displayName": "Wiktoria Kuna",
      "userId": "08275483741256386976"
     },
     "user_tz": -60
    },
    "id": "_E5_cCpSr_O8"
   },
   "outputs": [],
   "source": [
    "data_after_split = split_data(1, normalized_df, 0)\n",
    "\n",
    "\n",
    "X_train = data_after_split[\"X_train\"]\n",
    "X_test = data_after_split[\"X_test\"]\n",
    "y_train = data_after_split[\"y_train\"]\n",
    "y_test = data_after_split[\"y_test\"]"
   ]
  },
  {
   "cell_type": "code",
   "execution_count": 180,
   "metadata": {
    "colab": {
     "base_uri": "https://localhost:8080/"
    },
    "executionInfo": {
     "elapsed": 385,
     "status": "ok",
     "timestamp": 1676618663196,
     "user": {
      "displayName": "Wiktoria Kuna",
      "userId": "08275483741256386976"
     },
     "user_tz": -60
    },
    "id": "KU8eX-KvsCOd",
    "outputId": "850662a5-3ebe-40c4-ab6d-77e8d758fa16"
   },
   "outputs": [
    {
     "data": {
      "text/plain": [
       "XGBClassifier(objective='multi:softprob')"
      ]
     },
     "execution_count": 180,
     "metadata": {},
     "output_type": "execute_result"
    }
   ],
   "source": [
    "model.fit(X_train, y_train)"
   ]
  },
  {
   "cell_type": "code",
   "execution_count": 181,
   "metadata": {
    "executionInfo": {
     "elapsed": 7,
     "status": "ok",
     "timestamp": 1676618663197,
     "user": {
      "displayName": "Wiktoria Kuna",
      "userId": "08275483741256386976"
     },
     "user_tz": -60
    },
    "id": "dedxM5ffsFZ7"
   },
   "outputs": [],
   "source": [
    "ypred = model.predict(X_test)"
   ]
  },
  {
   "cell_type": "code",
   "execution_count": 182,
   "metadata": {
    "colab": {
     "base_uri": "https://localhost:8080/"
    },
    "executionInfo": {
     "elapsed": 7,
     "status": "ok",
     "timestamp": 1676618663197,
     "user": {
      "displayName": "Wiktoria Kuna",
      "userId": "08275483741256386976"
     },
     "user_tz": -60
    },
    "id": "ybDqMj-NsIJc",
    "outputId": "1f6b7c70-6c6d-404b-83a1-09bb25916ac6"
   },
   "outputs": [
    {
     "name": "stdout",
     "output_type": "stream",
     "text": [
      "0.638\n"
     ]
    }
   ],
   "source": [
    "accuracy1 = (ypred == y_test).sum()/X_test.shape[0]\n",
    "print(accuracy1.round(3))"
   ]
  },
  {
   "cell_type": "code",
   "execution_count": 183,
   "metadata": {
    "executionInfo": {
     "elapsed": 5,
     "status": "ok",
     "timestamp": 1676618663198,
     "user": {
      "displayName": "Wiktoria Kuna",
      "userId": "08275483741256386976"
     },
     "user_tz": -60
    },
    "id": "i7RiMMeassHD"
   },
   "outputs": [],
   "source": [
    "results0[\"XGBoost\"] = accuracy0\n",
    "results1[\"XGBoost\"] = accuracy1"
   ]
  },
  {
   "cell_type": "markdown",
   "metadata": {
    "id": "B3SDoIbhWXFT"
   },
   "source": [
    "## Summary"
   ]
  },
  {
   "cell_type": "markdown",
   "metadata": {
    "id": "u3SJamH4NcGk"
   },
   "source": [
    "Sort the results for the first question so it's easier to compare on a plot."
   ]
  },
  {
   "cell_type": "code",
   "execution_count": 184,
   "metadata": {
    "executionInfo": {
     "elapsed": 5,
     "status": "ok",
     "timestamp": 1676618663198,
     "user": {
      "displayName": "Wiktoria Kuna",
      "userId": "08275483741256386976"
     },
     "user_tz": -60
    },
    "id": "ySRHfQMOcxlx"
   },
   "outputs": [],
   "source": [
    "results0_to_plot = {}\n",
    "for k, v in results0.items():\n",
    "    results0_to_plot[k] = v *100\n",
    "results0_to_plot = dict(sorted(results0_to_plot.items(), key=lambda item: item[1], reverse=True))"
   ]
  },
  {
   "cell_type": "code",
   "execution_count": 188,
   "metadata": {
    "colab": {
     "base_uri": "https://localhost:8080/",
     "height": 350
    },
    "executionInfo": {
     "elapsed": 1316,
     "status": "ok",
     "timestamp": 1676618715711,
     "user": {
      "displayName": "Wiktoria Kuna",
      "userId": "08275483741256386976"
     },
     "user_tz": -60
    },
    "id": "KqipPatLeT0g",
    "outputId": "e1fd30bd-8d48-4156-fd44-4bb3ebe83d7d"
   },
   "outputs": [
    {
     "data": {
      "image/png": "[encoded data removed]",
      "text/plain": [
       "<Figure size 720x360 with 1 Axes>"
      ]
     },
     "metadata": {
      "needs_background": "light"
     },
     "output_type": "display_data"
    }
   ],
   "source": [
    "plt.figure(figsize=(10, 5))\n",
    "plt.title('Q0: Prediction accuracy by model')\n",
    "plt.ylabel(\"Accuracy in %\")\n",
    "plt.xlabel(\"Model\")\n",
    "plt.bar(*zip(*results0_to_plot.items()), align='center', color=['green', 'blue', 'purple', 'plum'], edgecolor='black')\n",
    "plt.yticks(range(0,100,5))\n",
    "plt.show()"
   ]
  },
  {
   "cell_type": "markdown",
   "metadata": {
    "id": "c_R1RYD_NrTA"
   },
   "source": [
    "Sort the results for the second question."
   ]
  },
  {
   "cell_type": "code",
   "execution_count": 186,
   "metadata": {
    "executionInfo": {
     "elapsed": 11,
     "status": "ok",
     "timestamp": 1676618663639,
     "user": {
      "displayName": "Wiktoria Kuna",
      "userId": "08275483741256386976"
     },
     "user_tz": -60
    },
    "id": "1xfcWd1Iczvh"
   },
   "outputs": [],
   "source": [
    "results1_to_plot = {}\n",
    "for k, v in results1.items():\n",
    "    results1_to_plot[k] = v *100\n",
    "results1_to_plot = dict(sorted(results1_to_plot.items(), key=lambda item: item[1], reverse=True))"
   ]
  },
  {
   "cell_type": "code",
   "execution_count": 189,
   "metadata": {
    "colab": {
     "base_uri": "https://localhost:8080/",
     "height": 350
    },
    "executionInfo": {
     "elapsed": 564,
     "status": "ok",
     "timestamp": 1676618726049,
     "user": {
      "displayName": "Wiktoria Kuna",
      "userId": "08275483741256386976"
     },
     "user_tz": -60
    },
    "id": "0UnectN0kcFS",
    "outputId": "0f0f58f8-a724-4435-a830-f54192f880f1"
   },
   "outputs": [
    {
     "data": {
      "image/png": "[encoded data removed]",
      "text/plain": [
       "<Figure size 720x360 with 1 Axes>"
      ]
     },
     "metadata": {
      "needs_background": "light"
     },
     "output_type": "display_data"
    }
   ],
   "source": [
    "plt.figure(figsize=(10, 5))\n",
    "plt.title('Q1: Prediction accuracy by model')\n",
    "plt.ylabel(\"Accuracy in %\")\n",
    "plt.xlabel(\"Model\")\n",
    "plt.bar(*zip(*results1_to_plot.items()), align='center', color=['green', 'blue', 'purple', 'plum'], edgecolor='black')\n",
    "plt.yticks(range(0,100,5), range(0,100,5))\n",
    "plt.show()"
   ]
  }
 ],
 "metadata": {
  "colab": {
   "collapsed_sections": [
    "77i6wxpiwRKh"
   ],
   "provenance": [],
   "toc_visible": true
  },
  "kernelspec": {
   "display_name": "Python 3 (ipykernel)",
   "language": "python",
   "name": "python3"
  },
  "language_info": {
   "codemirror_mode": {
    "name": "ipython",
    "version": 3
   },
   "file_extension": ".py",
   "mimetype": "text/x-python",
   "name": "python",
   "nbconvert_exporter": "python",
   "pygments_lexer": "ipython3",
   "version": "3.10.9"
  }
 },
 "nbformat": 4,
 "nbformat_minor": 1
}
